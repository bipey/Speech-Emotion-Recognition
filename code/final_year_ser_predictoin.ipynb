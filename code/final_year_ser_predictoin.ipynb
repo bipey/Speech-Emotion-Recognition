{
 "cells": [
  {
   "cell_type": "markdown",
   "metadata": {},
   "source": [
    "IMPORTING LIBRARIES"
   ]
  },
  {
   "cell_type": "code",
   "execution_count": 139,
   "metadata": {},
   "outputs": [],
   "source": [
    "import os\n",
    "import pandas as pd\n",
    "import numpy as np\n",
    "from tensorflow.keras.models import load_model\n",
    "import librosa\n",
    "from IPython.display import Audio\n",
    "from tensorflow.keras.preprocessing.sequence import pad_sequences\n",
    "from sklearn.preprocessing import LabelEncoder"
   ]
  },
  {
   "cell_type": "markdown",
   "metadata": {},
   "source": [
    "LOADING MODEL"
   ]
  },
  {
   "cell_type": "code",
   "execution_count": 140,
   "metadata": {},
   "outputs": [],
   "source": [
    "model=load_model('E:/final year project/models/model_0.52.keras')"
   ]
  },
  {
   "cell_type": "markdown",
   "metadata": {},
   "source": [
    "LOADING THE AUDIO FILE"
   ]
  },
  {
   "cell_type": "code",
   "execution_count": 141,
   "metadata": {},
   "outputs": [
    {
     "name": "stdout",
     "output_type": "stream",
     "text": [
      "Audio Shape: (46980,), Sample Rate: 16000\n"
     ]
    }
   ],
   "source": [
    "\n",
    "\n",
    "\n",
    "file_path = r\"E:\\final year project\\dataset\\Angry\\1022_DFA_ANG_XX.wav\"\n",
    "Audio(file_path)\n",
    "audio, sample_rate = librosa.load(file_path, sr=None)  \n",
    "\n",
    "print(f\"Audio Shape: {audio.shape}, Sample Rate: {sample_rate}\")\n"
   ]
  },
  {
   "cell_type": "code",
   "execution_count": 142,
   "metadata": {},
   "outputs": [],
   "source": [
    "def get_melspec(y,sr,n_fft,n_mels,hop_length,fmin,maxlen):\n",
    "    mel_spec=librosa.feature.melspectrogram(y=y,sr=sr,n_fft=n_fft,n_mels=n_mels,hop_length=hop_length,fmin=fmin)\n",
    "    mel_spec_db=librosa.power_to_db(mel_spec,ref=np.max)\n",
    "    return pad_sequences(mel_spec_db,maxlen=maxlen,truncating=\"post\",padding=\"post\")"
   ]
  },
  {
   "cell_type": "code",
   "execution_count": 143,
   "metadata": {},
   "outputs": [
    {
     "data": {
      "text/plain": [
       "(128, 130)"
      ]
     },
     "execution_count": 143,
     "metadata": {},
     "output_type": "execute_result"
    }
   ],
   "source": [
    "FRAME_LENGTH=2048\n",
    "HOP_LENGTH=512\n",
    "N_MFCC=13\n",
    "N_FFT=1024\n",
    "MAX_LENGTH=130\n",
    "N_MELS=128\n",
    "FMIN=50\n",
    "melspecs=get_melspec(audio,sample_rate,N_FFT,N_MELS,HOP_LENGTH,FMIN,MAX_LENGTH)\n",
    "melspecs=np.array(melspecs)\n",
    "melspecs.shape"
   ]
  },
  {
   "cell_type": "code",
   "execution_count": 144,
   "metadata": {},
   "outputs": [],
   "source": [
    "def normalise_features(feature):\n",
    "    mean=np.mean(feature,axis=0)\n",
    "    std=np.std(feature,axis=0)\n",
    "    return (feature-mean)/(std+1e-9)"
   ]
  },
  {
   "cell_type": "code",
   "execution_count": 145,
   "metadata": {},
   "outputs": [
    {
     "data": {
      "text/plain": [
       "(128, 130)"
      ]
     },
     "execution_count": 145,
     "metadata": {},
     "output_type": "execute_result"
    }
   ],
   "source": [
    "normalisied_melspecs=np.array(normalise_features(melspecs))\n",
    "normalisied_melspecs.shape"
   ]
  },
  {
   "cell_type": "code",
   "execution_count": 146,
   "metadata": {},
   "outputs": [
    {
     "name": "stdout",
     "output_type": "stream",
     "text": [
      "(None, 128, 130, 1)\n"
     ]
    },
    {
     "name": "stdout",
     "output_type": "stream",
     "text": [
      "\u001b[1m1/1\u001b[0m \u001b[32m━━━━━━━━━━━━━━━━━━━━\u001b[0m\u001b[37m\u001b[0m \u001b[1m0s\u001b[0m 270ms/step\n"
     ]
    },
    {
     "data": {
      "text/plain": [
       "array([[0.00360219, 0.13760597, 0.208976  , 0.01619476, 0.02941798,\n",
       "        0.60420316]], dtype=float32)"
      ]
     },
     "execution_count": 146,
     "metadata": {},
     "output_type": "execute_result"
    }
   ],
   "source": [
    "print(model.input_shape)\n",
    "normalisied_melspecs=normalisied_melspecs.reshape(1,128,130,1)\n",
    "pred=model.predict(normalisied_melspecs)\n",
    "pred"
   ]
  },
  {
   "cell_type": "code",
   "execution_count": 147,
   "metadata": {},
   "outputs": [
    {
     "name": "stdout",
     "output_type": "stream",
     "text": [
      "5\n",
      "Sad\n"
     ]
    }
   ],
   "source": [
    "label=np.argmax(pred,axis=1)[0]\n",
    "print(label)\n",
    "classes=['Angry', 'Disgust', 'Fear', 'Happy', 'Neutral', 'Sad']\n",
    "print(classes[label])\n"
   ]
  },
  {
   "cell_type": "code",
   "execution_count": null,
   "metadata": {},
   "outputs": [],
   "source": []
  }
 ],
 "metadata": {
  "kernelspec": {
   "display_name": "Python 3 (ipykernel)",
   "language": "python",
   "name": "python3"
  },
  "language_info": {
   "codemirror_mode": {
    "name": "ipython",
    "version": 3
   },
   "file_extension": ".py",
   "mimetype": "text/x-python",
   "name": "python",
   "nbconvert_exporter": "python",
   "pygments_lexer": "ipython3",
   "version": "3.11.1"
  }
 },
 "nbformat": 4,
 "nbformat_minor": 2
}
