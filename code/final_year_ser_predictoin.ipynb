{
 "cells": [
  {
   "cell_type": "markdown",
   "metadata": {},
   "source": [
    "IMPORTING LIBRARIES"
   ]
  },
  {
   "cell_type": "code",
   "execution_count": 1,
   "metadata": {},
   "outputs": [],
   "source": [
    "import os\n",
    "import tensorflow as tf\n",
    "import numpy as np\n",
    "import librosa\n",
    "from tensorflow.keras.models import load_model\n",
    "from sklearn.preprocessing import MinMaxScaler\n",
    "import joblib\n",
    "from tensorflow.keras.losses import CategoricalCrossentropy\n",
    "from tensorflow.keras.utils import register_keras_serializable"
   ]
  },
  {
   "cell_type": "markdown",
   "metadata": {},
   "source": [
    "LOADING MODEL"
   ]
  },
  {
   "cell_type": "code",
   "execution_count": 2,
   "metadata": {},
   "outputs": [],
   "source": [
    "def extract_features(file_path, n_mfcc=40):\n",
    "    audio, sr = librosa.load(file_path, sr=None)  # Changed sample_rate to sr\n",
    "    mfcc = librosa.feature.mfcc(y=audio, sr=sr, n_mfcc=n_mfcc)  # Corrected method name and added y parameter\n",
    "    mfcc_processed = np.mean(mfcc.T, axis=0)\n",
    "\n",
    "    mel_spec = librosa.feature.melspectrogram(y=audio, sr=sr)  # Corrected method name\n",
    "    mel_spec_processed = np.mean(mel_spec.T, axis=0)\n",
    "    features = np.concatenate([mfcc_processed, mel_spec_processed])\n",
    "    return features"
   ]
  },
  {
   "cell_type": "code",
   "execution_count": 6,
   "metadata": {},
   "outputs": [],
   "source": [
    "def predict_emotions(model, file_path, scaler, label_encoder, n_mfcc=40):\n",
    "    features = extract_features(file_path=file_path, n_mfcc=n_mfcc)\n",
    "    scaled_features = scaler.transform(features.reshape(1, -1))\n",
    "    features_reshaped = scaled_features.reshape(1, 1, scaled_features.shape[1])\n",
    "    predictions = model.predict(features_reshaped)\n",
    "    top_3_indices = predictions[0].argsort()[-3:][::-1]\n",
    "    top_3_emotions = label_encoder.inverse_transform(top_3_indices)\n",
    "    top_3_confidences = predictions[0][top_3_indices]\n",
    "    print(\"scaled features shape\",scaled_features.shape)\n",
    "    # Prepare results\n",
    "    results = {\n",
    "        'top_emotion': top_3_emotions[0],\n",
    "        'top_emotion_confidence': float(top_3_confidences[0]),\n",
    "        'top_3_predictions': [\n",
    "            {'emotion': emotion, 'confidence': float(confidence)}\n",
    "            for emotion, confidence in zip(top_3_emotions, top_3_confidences)\n",
    "        ]\n",
    "    }\n",
    "    \n",
    "    return results"
   ]
  },
  {
   "cell_type": "markdown",
   "metadata": {},
   "source": [
    "LOADING THE AUDIO FILE"
   ]
  },
  {
   "cell_type": "code",
   "execution_count": 14,
   "metadata": {},
   "outputs": [
    {
     "name": "stdout",
     "output_type": "stream",
     "text": [
      "model input shape (None, 1, 168, 1)\n",
      "(None, 7)\n",
      "\u001b[1m1/1\u001b[0m \u001b[32m━━━━━━━━━━━━━━━━━━━━\u001b[0m\u001b[37m\u001b[0m \u001b[1m1s\u001b[0m 974ms/step\n",
      "scaled features shape (1, 168)\n",
      "Single File Prediction: {'top_emotion': 'Neutral', 'top_emotion_confidence': 0.9999837875366211, 'top_3_predictions': [{'emotion': 'Neutral', 'confidence': 0.9999837875366211}, {'emotion': 'Surprised', 'confidence': 8.875104867911432e-06}, {'emotion': 'Sad', 'confidence': 3.5404621030465933e-06}]}\n"
     ]
    }
   ],
   "source": [
    "\n",
    "# Main function\n",
    "def main():\n",
    "    artifacts_path = 'E:/final year project/model_artifacts'\n",
    "\n",
    "    class ExpandDimsLayer(tf.keras.layers.Layer):\n",
    "        def call(self, inputs):\n",
    "            return tf.expand_dims(inputs, axis=1)\n",
    "\n",
    "    class AttentionLayer(tf.keras.layers.Layer):\n",
    "        def __init__(self, **kwargs):\n",
    "            super(AttentionLayer, self).__init__(**kwargs)\n",
    "\n",
    "        def build(self, input_shape):\n",
    "            self.W = self.add_weight(name='att_weight', shape=(input_shape[-1],), initializer='normal', trainable=True)\n",
    "            self.b = self.add_weight(name='att_bias', shape=(input_shape[-2],), initializer='zeros', trainable=True)\n",
    "            super(AttentionLayer, self).build(input_shape)\n",
    "\n",
    "        def call(self, x):\n",
    "            e = tf.nn.tanh(tf.tensordot(x, self.W, axes=1) + self.b)\n",
    "            a = tf.nn.softmax(e, axis=1)\n",
    "            return tf.reduce_sum(x * tf.expand_dims(a, -1), axis=1)\n",
    "\n",
    "    # Define the custom focal loss function\n",
    "    @register_keras_serializable()\n",
    "    def focal_loss(gamma=2.0, alpha=0.25):\n",
    "        def loss_fn(y_true, y_pred):\n",
    "            cce = CategoricalCrossentropy()\n",
    "            cross_entropy = cce(y_true, y_pred)\n",
    "            pt = tf.exp(-cross_entropy)\n",
    "            focal_loss_value = alpha * (1 - pt) ** gamma * cross_entropy\n",
    "            return focal_loss_value\n",
    "        return loss_fn\n",
    "\n",
    "    # Load the trained model\n",
    "    model = tf.keras.models.load_model(\n",
    "        'E:/final year project/models/model_latest_0.99.keras',\n",
    "        custom_objects={\n",
    "            'AttentionLayer': AttentionLayer,\n",
    "            'ExpandDimsLayer': ExpandDimsLayer,\n",
    "            'loss_fn': focal_loss(gamma=2.0, alpha=0.25)  # Add the custom loss function here\n",
    "        },\n",
    "        safe_mode=False\n",
    "    )\n",
    "    print(\"model input shape\", model.input_shape)\n",
    "    \n",
    "\n",
    "    # Load scaler and label encoder\n",
    "    scaler = joblib.load(os.path.join(artifacts_path, 'minmax_scaler.pkl'))\n",
    "    label_encoder = joblib.load(os.path.join(artifacts_path, 'label_encoder.pkl'))\n",
    "    print(model.output_shape)\n",
    "    # Single file prediction\n",
    "    file_path = r'E:\\final year project\\dataset\\tess\\Neutral\\OA_bite_neutral_augmented.wav'\n",
    "    single_prediction = predict_emotions(model, file_path, scaler, label_encoder)\n",
    "    print(\"Single File Prediction:\", single_prediction)\n",
    "\n",
    "if __name__ == '__main__':\n",
    "    main()"
   ]
  },
  {
   "cell_type": "code",
   "execution_count": null,
   "metadata": {},
   "outputs": [],
   "source": []
  }
 ],
 "metadata": {
  "kernelspec": {
   "display_name": "Python 3 (ipykernel)",
   "language": "python",
   "name": "python3"
  },
  "language_info": {
   "codemirror_mode": {
    "name": "ipython",
    "version": 3
   },
   "file_extension": ".py",
   "mimetype": "text/x-python",
   "name": "python",
   "nbconvert_exporter": "python",
   "pygments_lexer": "ipython3",
   "version": "3.11.1"
  }
 },
 "nbformat": 4,
 "nbformat_minor": 2
}
