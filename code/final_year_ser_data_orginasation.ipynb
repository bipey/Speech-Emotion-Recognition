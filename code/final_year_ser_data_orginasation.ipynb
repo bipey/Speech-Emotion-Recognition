{
 "cells": [
  {
   "cell_type": "markdown",
   "id": "32b18ac9-49f4-4c4a-9ec6-0736227f86e1",
   "metadata": {},
   "source": [
    "Installing libraries for auto completion"
   ]
  },
  {
   "cell_type": "code",
   "execution_count": 1,
   "id": "a1f06b0b-4d60-4512-900e-5946370f22f6",
   "metadata": {},
   "outputs": [],
   "source": [
    "# pip install jupyter_contrib_nbextensions\n",
    "# !jupyter contrib nbextension install --user\n",
    "# !jupyter nbextension enable hinterland/hinterland"
   ]
  },
  {
   "cell_type": "markdown",
   "id": "9fc1a87c-366c-4dd7-9d44-134925d9d7b1",
   "metadata": {},
   "source": [
    "IMPORTING LIBRARIES"
   ]
  },
  {
   "cell_type": "code",
   "execution_count": 2,
   "id": "b03256ca-4b35-4f03-94d1-d0863b126d70",
   "metadata": {},
   "outputs": [],
   "source": [
    "import os\n",
    "import pandas as pd\n",
    "import numpy as np\n",
    "import shutil\n"
   ]
  },
  {
   "cell_type": "markdown",
   "id": "1fa622c2-d665-4b06-aa8a-fe1819664f0d",
   "metadata": {},
   "source": [
    "Importing dataset folders"
   ]
  },
  {
   "cell_type": "code",
   "execution_count": 3,
   "id": "a9b25d09-f43f-4669-ac1b-7070eef1e36d",
   "metadata": {},
   "outputs": [
    {
     "name": "stdout",
     "output_type": "stream",
     "text": [
      "Both crema and ravdess dataset folder found\n"
     ]
    }
   ],
   "source": [
    "crema_dataset_path=\"E:/final year project/CREMA-D/AudioWAV/\"\n",
    "ravdess_dataset_path=\"E:/final year project/RAVDESS/\"\n",
    "if not os.path.exists(crema_dataset_path):\n",
    "    print(\"no path found for crema dataset\")\n",
    "elif not os.path.exists(ravdess_dataset_path):\n",
    "    print(\"no path found for ravdess dataset\")\n",
    "else:\n",
    "    print(\"Both crema and ravdess dataset folder found\")"
   ]
  },
  {
   "cell_type": "markdown",
   "id": "e2831f21-24d8-4d37-bf88-c5525ac93236",
   "metadata": {},
   "source": [
    "CREATING THE FOLDERS FOR DIFFERENT EMOTION\n"
   ]
  },
  {
   "cell_type": "code",
   "execution_count": 4,
   "id": "8ac9823f-e030-412b-9ee6-35c152fddbb5",
   "metadata": {},
   "outputs": [
    {
     "name": "stdout",
     "output_type": "stream",
     "text": [
      "directory Angry already exists\n",
      "directory Happy already exists\n",
      "directory Fear already exists\n",
      "directory Disgust already exists\n",
      "directory Neutral already exists\n",
      "directory Sad already exists\n",
      "directory Surprised already exists\n",
      "directory Unknown already exists\n",
      "directory Calm already exists\n"
     ]
    }
   ],
   "source": [
    "dataset_directory=\"E:/final year project/dataset\"\n",
    "emotions_list=['Angry','Happy','Fear','Disgust','Neutral','Sad','Surprised','Unknown',\"Calm\"]\n",
    "if not os.path.exists(dataset_directory):\n",
    "    print(\"Directory doesnt exist, creating one...\")\n",
    "    os.mkdir(dataset_directory)\n",
    "    print(\"Directort dataset created\")\n",
    "for i in range(0, len(emotions_list)):\n",
    "    if not os.path.exists(f\"{dataset_directory}/{emotions_list[i]}\"):\n",
    "        print(f\"Directory {emotions_list[i]} doesnt exist, creating {emotions_list[i]} folder...\")\n",
    "        os.mkdir(f\"{dataset_directory}/{emotions_list[i]}\")\n",
    "        print(f\"{emotions_list[i]} folder created sucesfully\")\n",
    "    else:\n",
    "        print(f\"directory {emotions_list[i]} already exists\")"
   ]
  },
  {
   "cell_type": "markdown",
   "id": "0ff277d4-728f-4e24-b4a5-adc1f7250adf",
   "metadata": {},
   "source": [
    "CREATING A DATAFRAME"
   ]
  },
  {
   "cell_type": "code",
   "execution_count": 5,
   "id": "753e3bdf-ab61-4886-ae29-5873a883e371",
   "metadata": {},
   "outputs": [
    {
     "data": {
      "text/html": [
       "<div>\n",
       "<style scoped>\n",
       "    .dataframe tbody tr th:only-of-type {\n",
       "        vertical-align: middle;\n",
       "    }\n",
       "\n",
       "    .dataframe tbody tr th {\n",
       "        vertical-align: top;\n",
       "    }\n",
       "\n",
       "    .dataframe thead th {\n",
       "        text-align: right;\n",
       "    }\n",
       "</style>\n",
       "<table border=\"1\" class=\"dataframe\">\n",
       "  <thead>\n",
       "    <tr style=\"text-align: right;\">\n",
       "      <th></th>\n",
       "      <th>Emotion</th>\n",
       "      <th>Filename</th>\n",
       "    </tr>\n",
       "  </thead>\n",
       "  <tbody>\n",
       "  </tbody>\n",
       "</table>\n",
       "</div>"
      ],
      "text/plain": [
       "Empty DataFrame\n",
       "Columns: [Emotion, Filename]\n",
       "Index: []"
      ]
     },
     "execution_count": 5,
     "metadata": {},
     "output_type": "execute_result"
    }
   ],
   "source": [
    "ser_df=pd.DataFrame(columns=[\"Emotion\",\"Filename\"])\n",
    "ser_df"
   ]
  },
  {
   "cell_type": "markdown",
   "id": "851828d5-4642-473d-a118-f537ae732c2e",
   "metadata": {},
   "source": [
    "WORKING WITH CREMA DATA"
   ]
  },
  {
   "cell_type": "code",
   "execution_count": 6,
   "id": "b2d1dcda-fd25-42e3-9d8b-abe157694279",
   "metadata": {},
   "outputs": [],
   "source": [
    "crema_dirs=os.listdir(crema_dataset_path)\n",
    "# file_emotion=[]\n",
    "emotion_folder_map_crema={\n",
    "    \"ANG\":\"Angry\",\n",
    "    \"HAP\":\"Happy\",\n",
    "    \"FEA\":\"Fear\",\n",
    "    \"DIS\":\"Disgust\",\n",
    "    \"SAD\":\"Sad\",\n",
    "    \"NEU\":\"Neutral\"\n",
    "}\n",
    "for file in crema_dirs:\n",
    "    file_path=file.split(\".\")\n",
    "    emotion=file_path[0].split(\"_\")[2]\n",
    "    if emotion in emotion_folder_map_crema:\n",
    "        dest_fold_crema=os.path.join(dataset_directory,emotion_folder_map_crema[emotion])\n",
    "        \n",
    "        shutil.copy(os.path.join(crema_dataset_path,file),dest_fold_crema) if os.path.exists(dest_fold_crema) else  os.mkdir(dest_fold_crema)\n",
    "        ser_df.loc[len(ser_df)]=[emotion_folder_map_crema[emotion],file]\n",
    "    else:\n",
    "        dest_fold_crema=os.path.join(dataset_directory,\"unknown\")\n",
    "        shutil.copy(os.path.join(crema_dataset_path,file),dest_fold_crema) if os.path.exists(dest_fold_crema) else  os.mkdir(dest_fold_crema)\n",
    "    # if emotion not in file_emotion:\n",
    "    #     file_emotion.append(emotion)\n",
    "# print(file_emotion)\n",
    "\n",
    "# crema_dirs[:5]"
   ]
  },
  {
   "cell_type": "markdown",
   "id": "e5d8e451-841b-4005-980f-d9d90148c9df",
   "metadata": {},
   "source": [
    "WORKING WITH RAVDESS DATA"
   ]
  },
  {
   "cell_type": "code",
   "execution_count": 7,
   "id": "8c6f9762-e511-4f0e-9d92-197f364bf4e6",
   "metadata": {},
   "outputs": [],
   "source": [
    "ravdess_dirs=[]\n",
    "emotion_ravdess=[]\n",
    "emotion_folder_map_ravdess={\n",
    "    \"01\":\"Neutral\",\n",
    "    \"02\":\"Calm\",\n",
    "    \"03\":\"Happy\",\n",
    "    \"04\":\"Sad\",\n",
    "    \"05\":\"Angry\",\n",
    "    \"06\":\"Fear\",\n",
    "    \"07\":\"Disgust\",\n",
    "    \"08\":\"Surprised\"\n",
    "}\n",
    "for actor_folder in os.listdir(ravdess_dataset_path):\n",
    "    ravdess_file=os.path.join(ravdess_dataset_path,actor_folder)\n",
    "    ravdess_dirs=os.listdir(ravdess_file)\n",
    "    for file in ravdess_dirs:\n",
    "        emotion=file.split(\".\")[0]\n",
    "        emotion=emotion.split(\"-\")[2]\n",
    "        emotion_ravdess.append(emotion)\n",
    "        if(emotion in emotion_folder_map_ravdess):\n",
    "            dest_fold_ravdess=os.path.join(dataset_directory,emotion_folder_map_ravdess[emotion])\n",
    "            shutil.copy(os.path.join(ravdess_file,file),dest_fold_ravdess) if os.path.exists(dest_fold_ravdess) else os.mkdir(dest_fold_ravdess)\n",
    "            ser_df.loc[len(ser_df)]=[emotion_folder_map_ravdess[emotion],file]\n",
    "\n",
    "# print(emotion_ravdess[:3])\n",
    "# print(ravdess_dirs[:5])"
   ]
  },
  {
   "cell_type": "code",
   "execution_count": 8,
   "id": "14593e88-3382-4136-b4cc-a97fbd27456b",
   "metadata": {},
   "outputs": [
    {
     "data": {
      "text/html": [
       "<div>\n",
       "<style scoped>\n",
       "    .dataframe tbody tr th:only-of-type {\n",
       "        vertical-align: middle;\n",
       "    }\n",
       "\n",
       "    .dataframe tbody tr th {\n",
       "        vertical-align: top;\n",
       "    }\n",
       "\n",
       "    .dataframe thead th {\n",
       "        text-align: right;\n",
       "    }\n",
       "</style>\n",
       "<table border=\"1\" class=\"dataframe\">\n",
       "  <thead>\n",
       "    <tr style=\"text-align: right;\">\n",
       "      <th></th>\n",
       "      <th>Emotion</th>\n",
       "      <th>Filename</th>\n",
       "    </tr>\n",
       "  </thead>\n",
       "  <tbody>\n",
       "    <tr>\n",
       "      <th>0</th>\n",
       "      <td>Angry</td>\n",
       "      <td>1001_DFA_ANG_XX.wav</td>\n",
       "    </tr>\n",
       "    <tr>\n",
       "      <th>1</th>\n",
       "      <td>Disgust</td>\n",
       "      <td>1001_DFA_DIS_XX.wav</td>\n",
       "    </tr>\n",
       "    <tr>\n",
       "      <th>2</th>\n",
       "      <td>Fear</td>\n",
       "      <td>1001_DFA_FEA_XX.wav</td>\n",
       "    </tr>\n",
       "    <tr>\n",
       "      <th>3</th>\n",
       "      <td>Happy</td>\n",
       "      <td>1001_DFA_HAP_XX.wav</td>\n",
       "    </tr>\n",
       "    <tr>\n",
       "      <th>4</th>\n",
       "      <td>Neutral</td>\n",
       "      <td>1001_DFA_NEU_XX.wav</td>\n",
       "    </tr>\n",
       "    <tr>\n",
       "      <th>...</th>\n",
       "      <td>...</td>\n",
       "      <td>...</td>\n",
       "    </tr>\n",
       "    <tr>\n",
       "      <th>8877</th>\n",
       "      <td>Surprised</td>\n",
       "      <td>03-01-08-01-02-02-24.wav</td>\n",
       "    </tr>\n",
       "    <tr>\n",
       "      <th>8878</th>\n",
       "      <td>Surprised</td>\n",
       "      <td>03-01-08-02-01-01-24.wav</td>\n",
       "    </tr>\n",
       "    <tr>\n",
       "      <th>8879</th>\n",
       "      <td>Surprised</td>\n",
       "      <td>03-01-08-02-01-02-24.wav</td>\n",
       "    </tr>\n",
       "    <tr>\n",
       "      <th>8880</th>\n",
       "      <td>Surprised</td>\n",
       "      <td>03-01-08-02-02-01-24.wav</td>\n",
       "    </tr>\n",
       "    <tr>\n",
       "      <th>8881</th>\n",
       "      <td>Surprised</td>\n",
       "      <td>03-01-08-02-02-02-24.wav</td>\n",
       "    </tr>\n",
       "  </tbody>\n",
       "</table>\n",
       "<p>8882 rows × 2 columns</p>\n",
       "</div>"
      ],
      "text/plain": [
       "        Emotion                  Filename\n",
       "0         Angry       1001_DFA_ANG_XX.wav\n",
       "1       Disgust       1001_DFA_DIS_XX.wav\n",
       "2          Fear       1001_DFA_FEA_XX.wav\n",
       "3         Happy       1001_DFA_HAP_XX.wav\n",
       "4       Neutral       1001_DFA_NEU_XX.wav\n",
       "...         ...                       ...\n",
       "8877  Surprised  03-01-08-01-02-02-24.wav\n",
       "8878  Surprised  03-01-08-02-01-01-24.wav\n",
       "8879  Surprised  03-01-08-02-01-02-24.wav\n",
       "8880  Surprised  03-01-08-02-02-01-24.wav\n",
       "8881  Surprised  03-01-08-02-02-02-24.wav\n",
       "\n",
       "[8882 rows x 2 columns]"
      ]
     },
     "execution_count": 8,
     "metadata": {},
     "output_type": "execute_result"
    }
   ],
   "source": [
    "ser_df"
   ]
  },
  {
   "cell_type": "code",
   "execution_count": 9,
   "id": "07b7f6e8-3fe7-45c3-9317-331af9e45917",
   "metadata": {},
   "outputs": [],
   "source": [
    "ser_df.to_csv(\"E:/final year project/dataset/speech_emotion_recognisition.csv\")"
   ]
  },
  {
   "cell_type": "code",
   "execution_count": 10,
   "id": "830e01b6-764f-4f5d-9a3e-61966f9e4328",
   "metadata": {},
   "outputs": [
    {
     "data": {
      "text/html": [
       "<div>\n",
       "<style scoped>\n",
       "    .dataframe tbody tr th:only-of-type {\n",
       "        vertical-align: middle;\n",
       "    }\n",
       "\n",
       "    .dataframe tbody tr th {\n",
       "        vertical-align: top;\n",
       "    }\n",
       "\n",
       "    .dataframe thead th {\n",
       "        text-align: right;\n",
       "    }\n",
       "</style>\n",
       "<table border=\"1\" class=\"dataframe\">\n",
       "  <thead>\n",
       "    <tr style=\"text-align: right;\">\n",
       "      <th></th>\n",
       "      <th>Emotion</th>\n",
       "      <th>Filename</th>\n",
       "    </tr>\n",
       "  </thead>\n",
       "  <tbody>\n",
       "    <tr>\n",
       "      <th>0</th>\n",
       "      <td>Angry</td>\n",
       "      <td>1001_DFA_ANG_XX.wav</td>\n",
       "    </tr>\n",
       "    <tr>\n",
       "      <th>1</th>\n",
       "      <td>Disgust</td>\n",
       "      <td>1001_DFA_DIS_XX.wav</td>\n",
       "    </tr>\n",
       "    <tr>\n",
       "      <th>2</th>\n",
       "      <td>Fear</td>\n",
       "      <td>1001_DFA_FEA_XX.wav</td>\n",
       "    </tr>\n",
       "    <tr>\n",
       "      <th>3</th>\n",
       "      <td>Happy</td>\n",
       "      <td>1001_DFA_HAP_XX.wav</td>\n",
       "    </tr>\n",
       "    <tr>\n",
       "      <th>4</th>\n",
       "      <td>Neutral</td>\n",
       "      <td>1001_DFA_NEU_XX.wav</td>\n",
       "    </tr>\n",
       "    <tr>\n",
       "      <th>...</th>\n",
       "      <td>...</td>\n",
       "      <td>...</td>\n",
       "    </tr>\n",
       "    <tr>\n",
       "      <th>8877</th>\n",
       "      <td>Surprised</td>\n",
       "      <td>03-01-08-01-02-02-24.wav</td>\n",
       "    </tr>\n",
       "    <tr>\n",
       "      <th>8878</th>\n",
       "      <td>Surprised</td>\n",
       "      <td>03-01-08-02-01-01-24.wav</td>\n",
       "    </tr>\n",
       "    <tr>\n",
       "      <th>8879</th>\n",
       "      <td>Surprised</td>\n",
       "      <td>03-01-08-02-01-02-24.wav</td>\n",
       "    </tr>\n",
       "    <tr>\n",
       "      <th>8880</th>\n",
       "      <td>Surprised</td>\n",
       "      <td>03-01-08-02-02-01-24.wav</td>\n",
       "    </tr>\n",
       "    <tr>\n",
       "      <th>8881</th>\n",
       "      <td>Surprised</td>\n",
       "      <td>03-01-08-02-02-02-24.wav</td>\n",
       "    </tr>\n",
       "  </tbody>\n",
       "</table>\n",
       "<p>8882 rows × 2 columns</p>\n",
       "</div>"
      ],
      "text/plain": [
       "        Emotion                  Filename\n",
       "0         Angry       1001_DFA_ANG_XX.wav\n",
       "1       Disgust       1001_DFA_DIS_XX.wav\n",
       "2          Fear       1001_DFA_FEA_XX.wav\n",
       "3         Happy       1001_DFA_HAP_XX.wav\n",
       "4       Neutral       1001_DFA_NEU_XX.wav\n",
       "...         ...                       ...\n",
       "8877  Surprised  03-01-08-01-02-02-24.wav\n",
       "8878  Surprised  03-01-08-02-01-01-24.wav\n",
       "8879  Surprised  03-01-08-02-01-02-24.wav\n",
       "8880  Surprised  03-01-08-02-02-01-24.wav\n",
       "8881  Surprised  03-01-08-02-02-02-24.wav\n",
       "\n",
       "[8882 rows x 2 columns]"
      ]
     },
     "execution_count": 10,
     "metadata": {},
     "output_type": "execute_result"
    }
   ],
   "source": [
    "ser_df"
   ]
  },
  {
   "cell_type": "code",
   "execution_count": null,
   "id": "536bbdd5-af1c-457d-aa05-28fc0ae1000e",
   "metadata": {},
   "outputs": [],
   "source": []
  }
 ],
 "metadata": {
  "kernelspec": {
   "display_name": "Python 3",
   "language": "python",
   "name": "python3"
  },
  "language_info": {
   "codemirror_mode": {
    "name": "ipython",
    "version": 3
   },
   "file_extension": ".py",
   "mimetype": "text/x-python",
   "name": "python",
   "nbconvert_exporter": "python",
   "pygments_lexer": "ipython3",
   "version": "3.13.1"
  }
 },
 "nbformat": 4,
 "nbformat_minor": 5
}
